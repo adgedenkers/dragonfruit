{
 "cells": [
  {
   "cell_type": "code",
   "execution_count": 1,
   "metadata": {
    "vscode": {
     "languageId": "sql"
    }
   },
   "outputs": [
    {
     "name": "stdout",
     "output_type": "stream",
     "text": [
      "\n",
      "\u001b[1m[\u001b[0m\u001b[34;49mnotice\u001b[0m\u001b[1;39;49m]\u001b[0m\u001b[39;49m A new release of pip is available: \u001b[0m\u001b[31;49m23.2.1\u001b[0m\u001b[39;49m -> \u001b[0m\u001b[32;49m23.3.1\u001b[0m\n",
      "\u001b[1m[\u001b[0m\u001b[34;49mnotice\u001b[0m\u001b[1;39;49m]\u001b[0m\u001b[39;49m To update, run: \u001b[0m\u001b[32;49mpip install --upgrade pip\u001b[0m\n"
     ]
    }
   ],
   "source": [
    "### Running JupySQL and DuckDB\n",
    "`!pip install jupysql duckdb-engine --quiet`"
   ]
  },
  {
   "cell_type": "code",
   "execution_count": 2,
   "metadata": {
    "vscode": {
     "languageId": "sql"
    }
   },
   "outputs": [
    {
     "data": {
      "text/html": [
       "<span style=\"None\">Connecting to &#x27;duckdb://&#x27;</span>"
      ],
      "text/plain": [
       "Connecting to 'duckdb://'"
      ]
     },
     "metadata": {},
     "output_type": "display_data"
    }
   ],
   "source": [
    "%load_ext sql\n",
    "\n",
    "%sql duckdb://"
   ]
  },
  {
   "cell_type": "code",
   "execution_count": 10,
   "metadata": {
    "vscode": {
     "languageId": "sql"
    }
   },
   "outputs": [
    {
     "ename": "SyntaxError",
     "evalue": "invalid decimal literal (329021609.py, line 22)",
     "output_type": "error",
     "traceback": [
      "\u001b[0;36m  Cell \u001b[0;32mIn[10], line 22\u001b[0;36m\u001b[0m\n\u001b[0;31m    [53_weeks] INT DEFAULT 0,\u001b[0m\n\u001b[0m       ^\u001b[0m\n\u001b[0;31mSyntaxError\u001b[0m\u001b[0;31m:\u001b[0m invalid decimal literal\n"
     ]
    }
   ],
   "source": [
    "%sql CREATE TABLE dim_date (\t\n",
    "[date] TEXT PRIMARY KEY,\t\t\n",
    "\t[day] INT,\t\t\t\t\t\t\n",
    "\t[suffix] VARCHAR(2),\t\t\t\n",
    "\t[dow_name] VARCHAR(20),\t\t\t\n",
    "\t[dow_num] INT,\t\t\t\t\t\n",
    "\t[doy] INT,\t\t\t\t\t\t\n",
    "\t[weekend] INT DEFAULT 0,\t\t\n",
    "\t[woy] INT,\t\t\t\t\t\t\n",
    "\t[fow] DATE,\t\t\t\t\t\t\n",
    "\t[low] DATE,\t\t\t\t\t\t\n",
    "\t[wom] INT,\t\t\t\t\t\t\n",
    "\t[month] INT,\t\t\t\t\t\n",
    "\t[moy_name] VARCHAR(20),\t\t\t\n",
    "\t[fom] DATE,\t\t\t\t\t\t\n",
    "\t[lom] DATE,\t\t\t\t\t\t\n",
    "\t[gov_quarter] INT,\t\t\t\t\n",
    "\t[year] INT,\t\t\t\t\t\t\n",
    "\t[cy] INT,\t\t\t\t\t\t\n",
    "\t[fy] INT,\t\t\t\t\t\t\n",
    "\t[leap_year] INT\tDEFAULT 0,\t\t\n",
    "\t[53_weeks] INT DEFAULT 0,\t\t\n",
    "\t[disp_date] VARCHAR(10),\t\t\n",
    "\t[disp_mm_yyyy] VARCHAR(7),\t\t\n",
    "\t[disp_mm_dd_yyyy] VARCHAR(10),\t\n",
    "\t[disp_date_suffix] VARCHAR(8),\t\n",
    "\t[ppid] INT,\t\t\t\t\t\t\n",
    "\t[pp] VARCHAR(5),\t\t\t\t\n",
    "\t[ppy] INT,\t\t\t\t\t\t\n",
    "\t[ppn] INT,\t\t\t\t\t\t\n",
    "\t[ppw] INT,\t\t\t\t\t\t\n",
    "\t[ppd] INT,\t\t\t\t\t\t\n",
    "\t[pp_start] DATE,\t\t\t\t\n",
    "\t[pp_end] DATE,\t\t\t\t\t\n",
    "\t[pay_day] INT DEFAULT 0,\t\t\n",
    "\t[school_open] INT DEFAULT 0,\t\n",
    "\t[school_day] INT DEFAULT 0,\t\t\n",
    "\t[school_ab_day] VARCHAR(1)\t\t\n",
    ")"
   ]
  },
  {
   "cell_type": "code",
   "execution_count": 6,
   "metadata": {
    "vscode": {
     "languageId": "sql"
    }
   },
   "outputs": [
    {
     "ename": "SyntaxError",
     "evalue": "invalid syntax (584836139.py, line 1)",
     "output_type": "error",
     "traceback": [
      "\u001b[0;36m  Cell \u001b[0;32mIn[6], line 1\u001b[0;36m\u001b[0m\n\u001b[0;31m    SELECT * FROM dim_date\u001b[0m\n\u001b[0m                  ^\u001b[0m\n\u001b[0;31mSyntaxError\u001b[0m\u001b[0;31m:\u001b[0m invalid syntax\n"
     ]
    }
   ],
   "source": [
    "SELECT * FROM dim_date"
   ]
  },
  {
   "cell_type": "code",
   "execution_count": null,
   "metadata": {
    "vscode": {
     "languageId": "sql"
    }
   },
   "outputs": [],
   "source": []
  },
  {
   "cell_type": "code",
   "execution_count": null,
   "metadata": {
    "vscode": {
     "languageId": "sql"
    }
   },
   "outputs": [],
   "source": []
  },
  {
   "cell_type": "code",
   "execution_count": null,
   "metadata": {
    "vscode": {
     "languageId": "sql"
    }
   },
   "outputs": [],
   "source": []
  },
  {
   "cell_type": "code",
   "execution_count": null,
   "metadata": {
    "vscode": {
     "languageId": "sql"
    }
   },
   "outputs": [],
   "source": []
  },
  {
   "cell_type": "code",
   "execution_count": null,
   "metadata": {
    "vscode": {
     "languageId": "sql"
    }
   },
   "outputs": [],
   "source": []
  },
  {
   "cell_type": "code",
   "execution_count": 6,
   "metadata": {
    "vscode": {
     "languageId": "sql"
    }
   },
   "outputs": [
    {
     "ename": "ModuleNotFoundError",
     "evalue": "No module named 'pandas'",
     "output_type": "error",
     "traceback": [
      "\u001b[0;31m---------------------------------------------------------------------------\u001b[0m",
      "\u001b[0;31mModuleNotFoundError\u001b[0m                       Traceback (most recent call last)",
      "\u001b[1;32m/Users/adge/dragonfruit/database_setup.ipynb Cell 4\u001b[0m line \u001b[0;36m1\n\u001b[0;32m----> <a href='vscode-notebook-cell:/Users/adge/dragonfruit/database_setup.ipynb#X21sZmlsZQ%3D%3D?line=0'>1</a>\u001b[0m \u001b[39mimport\u001b[39;00m \u001b[39mpandas\u001b[39;00m \u001b[39mas\u001b[39;00m \u001b[39mpd\u001b[39;00m\n\u001b[1;32m      <a href='vscode-notebook-cell:/Users/adge/dragonfruit/database_setup.ipynb#X21sZmlsZQ%3D%3D?line=1'>2</a>\u001b[0m \u001b[39mfrom\u001b[39;00m \u001b[39mdatetime\u001b[39;00m \u001b[39mimport\u001b[39;00m datetime, timedelta, date\n\u001b[1;32m      <a href='vscode-notebook-cell:/Users/adge/dragonfruit/database_setup.ipynb#X21sZmlsZQ%3D%3D?line=3'>4</a>\u001b[0m \u001b[39m# Define the date range\u001b[39;00m\n",
      "\u001b[0;31mModuleNotFoundError\u001b[0m: No module named 'pandas'"
     ]
    }
   ],
   "source": [
    "import pandas as pd\n",
    "from datetime import datetime, timedelta, date\n",
    "\n",
    "# Define the date range\n",
    "start_date = date(2023, 1, 1)\n",
    "end_date = date(2070, 12, 31)\n",
    "\n",
    "# School Days off and events\n",
    "# (provided data)\n",
    "\n",
    "# Initialize a DataFrame\n",
    "columns = [\n",
    "    'date', 'day', 'suffix', 'dow_name', 'dow_num', 'doy', 'weekend', \n",
    "    'woy', 'fow', 'low', 'wom', 'month', 'moy_name', 'fom', 'lom', \n",
    "    'gov_quarter', 'year', 'cy', 'fy', 'leap_year', '53_weeks', \n",
    "    'disp_date', 'disp_mm_yyyy', 'disp_mm_dd_yyyy', 'disp_date_suffix', \n",
    "    'ppid', 'pp', 'ppy', 'ppn', 'ppw', 'ppd', 'pp_start', 'pp_end', \n",
    "    'pay_day', 'school_open', 'school_day', 'school_ab_day'\n",
    "]\n",
    "df = pd.DataFrame(columns=columns)\n",
    "\n",
    "# Helper function to get ordinal suffix\n",
    "def ordinal(n):\n",
    "    if 10 <= n % 100 <= 20:\n",
    "        suffix = 'th'\n",
    "    else:\n",
    "        suffix = {1: 'st', 2: 'nd', 3: 'rd'}.get(n % 10, 'th')\n",
    "    return suffix\n",
    "\n",
    "# Helper function to get pay period info based on date\n",
    "def get_pay_period(d):\n",
    "    pp_start_date = date(2023, 1, 1)  # Pay period 23-01 start date\n",
    "    pp_num = 1  # Starting pay period number\n",
    "    pp_year = 23  # Starting pay period year\n",
    "    while pp_start_date <= d:\n",
    "        pp_end_date = pp_start_date + timedelta(days=13)  # Pay periods are 2 weeks long\n",
    "        if pp_end_date > d:\n",
    "            break\n",
    "        pp_start_date = pp_end_date + timedelta(days=1)\n",
    "        pp_num += 1\n",
    "        if pp_num > 26:  # Reset pay period number and increment year\n",
    "            pp_num = 1\n",
    "            pp_year += 1\n",
    "    return pp_start_date, pp_end_date, pp_num, pp_year\n",
    "\n",
    "# Iterate through the date range and populate the DataFrame\n",
    "current_date = start_date\n",
    "ab_day_flag = 'A'  # Starting with 'A' on 2023-09-07\n",
    "while current_date <= end_date:\n",
    "    # Common date attributes\n",
    "    day_of_week = current_date.weekday() + 1  # 1 = Sunday, 2 = Monday, etc.\n",
    "    weekend = 1 if day_of_week in [1, 7] else 0\n",
    "    month = current_date.month\n",
    "    year = current_date.year\n",
    "    gov_quarter = (month - 1) // 3 + 1\n",
    "    week_of_year = current_date.isocalendar()[1]\n",
    "    week_start = current_date - timedelta(days=current_date.weekday())\n",
    "    week_end = week_start + timedelta(days=6)\n",
    "    leap_year = 1 if year % 4 == 0 and (year % 100 != 0 or year % 400 == 0) else 0\n",
    "    # Pay period attributes\n",
    "    pp_start, pp_end, pp_num, pp_year = get_pay_period(current_date)\n",
    "    # School day attributes\n",
    "    school_open = 1 if (datetime(2023, 9, 7).date() <= current_date <= datetime(2024, 7, 1).date()) and not weekend else 0\n",
    "    if school_open and current_date not in [d[0] for d in school_days_off]:\n",
    "        school_day = 1\n",
    "        school_ab_day = ab_day_flag\n",
    "        ab_day_flag = 'B' if ab_day_flag == 'A' else 'A'  # Alternate A/B days\n",
    "    else:\n",
    "        school_day = 0\n",
    "        school_ab_day = None\n",
    "    # Append row to DataFrame\n",
    "    df = df.append({\n",
    "        'date': current_date,\n",
    "        'day': current_date.day,\n",
    "        'suffix': ordinal(current_date.day),\n",
    "        'dow_name': current_date.strftime('%A'),\n",
    "        'dow_num': day_of_week,\n",
    "        'doy': current_date.timetuple().tm_yday,\n",
    "        'weekend': weekend,\n",
    "        'woy': week_of_year,\n",
    "        'fow': week_start,\n",
    "        'low': week_end,\n",
    "        'wom': (current_date.day - 1) // 7 + 1,\n",
    "        'month': month,\n",
    "        'moy_name': current_date.strftime('%B'),\n",
    "        'fom': current_date.replace(day=1),\n",
    "        'lom': (current_date.replace(month=current_date.month % 12 + 1, day=1) - timedelta(days=1)),\n",
    "        'gov_quarter': gov_quarter,\n",
    "        'year': year,\n",
    "        'cy': year,\n",
    "        'fy': year,\n",
    "        'leap_year': leap_year,\n",
    "        '53_weeks': 1 if week_of_year == 53 else 0,\n",
    "        'disp_date': current_date.strftime('%Y-%m-%d'),\n",
    "        'disp_mm_yyyy': current_date.strftime('%m/%Y'),\n",
    "        'disp_mm_dd_yyyy': current_date.strftime('%m/%d/%Y'),\n",
    "        'disp_date_suffix': current_date.strftime('%Y%m%d'),\n",
    "        'ppid': pp_year * 100 + pp_num,\n",
    "        'pp': f'{pp_year}-{str(pp_num).zfill(2)}',\n",
    "        'ppy': pp_year,\n",
    "        'ppn': pp_num,\n",
    "        'ppw': 1 if (current_date - pp_start).days < 7 else 2,\n",
    "        'ppd': (current_date - pp_start).days + 1,\n",
    "        'pp_start': pp_start,\n",
    "        'pp_end': pp_end,\n",
    "        'pay_day': 0,  # Additional logic may be required\n",
    "        'school_open': school_open,\n",
    "        'school_day': school_day,\n",
    "        'school_ab_day': school_ab_day\n",
    "    }, ignore_index=True)\n",
    "    # Move to next date\n",
    "    current_date += timedelta(days=1)\n",
    "\n",
    "# Output the DataFrame\n",
    "print(df)\n"
   ]
  },
  {
   "cell_type": "code",
   "execution_count": null,
   "metadata": {
    "vscode": {
     "languageId": "sql"
    }
   },
   "outputs": [],
   "source": []
  },
  {
   "cell_type": "code",
   "execution_count": null,
   "metadata": {
    "vscode": {
     "languageId": "sql"
    }
   },
   "outputs": [],
   "source": []
  },
  {
   "attachments": {},
   "cell_type": "markdown",
   "metadata": {},
   "source": [
    "# Output\n",
    "\n",
    "## Becky's data may look like this:\n",
    "\n",
    "```python\n",
    "becky_data = \n",
    "[\n",
    "    ('2023-05-18 08:00:00-0400', 'pain-meds oxycodone-15.mg',      'location:abdomen_lower-right-quadrant, level:6'),\n",
    "    ('2023-05-18 09:30:00-0400', 'bowel-movement diarrhea',       'liquid'),\n",
    "    ('2023-05-18 11:15:00-0400', 'morning-meds group__becky-morning-meds', None),\n",
    "    ('2023-05-18 13:45:00-0400', 'bowel-movement diarrhea',       'diced'),\n",
    "    ('2023-05-18 16:00:00-0400', 'pain-meds - oxycodone-15.mg',     'location:abdomen_lower-right-quadrant, level:5')\n",
    "]\n",
    "```\n",
    "\n",
    "## Fitzy's data may look like this:\n",
    "\n",
    "```python\n",
    "fitzy_data = \n",
    "[\n",
    "    ('2023-05-18 07:14:00-0400', 'brush-teeth',                     None),\n",
    "    ('2023-05-18 07:15:00-0400', 'daily-vitamins',                  None),\n",
    "    ('2023-05-18 16:36:00-0400', 'homework-completed',              None),\n",
    "    ('2023-05-18 18:00:00-0400', 'baseball-practice',               None),\n",
    "    ('2023-05-18 21:39:00-0400', 'brush-teeth',                     None)\n",
    "]\n",
    "```\n",
    "\n",
    "## Adge's data may look like this:\n",
    "\n",
    "```python\n",
    "adge_data = [\n",
    "    ('2023-05-18 05:14:00-0400', 'morning-meds group__adge-morning-meds',   None),\n",
    "    ('2023-05-18 08:15:00-0400', 'void-bladder',                            'sudden'),\n",
    "    ('2023-05-18 08:36:00-0400', 'void-bladder',                            'sudden'),\n",
    "    ('2023-05-18 18:00:00-0400', 'afternoon-meds group__adge-afternoon-meds', None),\n",
    "    ('2023-05-18 21:39:00-0400', 'walk',                                    '1.2 miles')\n",
    "]\n",
    "```"
   ]
  },
  {
   "attachments": {},
   "cell_type": "markdown",
   "metadata": {},
   "source": [
    "# Create User Profile Table"
   ]
  },
  {
   "cell_type": "code",
   "execution_count": null,
   "metadata": {
    "vscode": {
     "languageId": "sql"
    }
   },
   "outputs": [],
   "source": [
    "CREATE TABLE\n",
    "    profile (\n",
    "        id INT NOT NULL PRIMARY KEY IDENTITY(1,1),      -- unique, primary key\n",
    "        user_id INT NOT NULL,                           -- foreign key to users table\n",
    "        full_name VARCHAR(255),                         -- full name of the user, as used in official documents and reports\n",
    "        name VARCHAR(255),                              -- name of the user, as used in informal settings\n",
    "        email VARCHAR(255),                             -- email address of the user\n",
    "        FOREIGN KEY (user_id) REFERENCES users(id)\n",
    "    )"
   ]
  },
  {
   "attachments": {},
   "cell_type": "markdown",
   "metadata": {},
   "source": [
    "# Tracking Medications\n",
    "\n",
    "The code below is a rudamentary example of the tables required to implement the tracking people taking medicaitons. This is only one possible solution of many."
   ]
  },
  {
   "cell_type": "code",
   "execution_count": null,
   "metadata": {
    "vscode": {
     "languageId": "sql"
    }
   },
   "outputs": [],
   "source": [
    "CREATE TABLE \n",
    "    medications (\n",
    "        id INT NOT NULL PRIMARY KEY IDENTITY(1,1),      -- unique, primary key\n",
    "        medication VARCHAR(100),                        -- our common name for this medication\n",
    "        generic_name VARCHAR(255),                      -- the generic name for this medication\n",
    "        brand_name VARCHAR(255),                        -- the brand name for this medication\n",
    "        description VARCHAR(255),                       -- a description of this medication\n",
    "    )\n",
    "\n",
    "CREATE TABLE\n",
    "    medication_stubs (\n",
    "        id INT NOT NULL PRIMARY KEY IDENTITY(1,1),\n",
    "        stub VARCHAR(100) NOT NULL,                     -- text-based unique identifier, easy to read and understand \n",
    "        medication_id INT NOT NULL,                     -- foreign key to medications table\n",
    "        medication_dosage_id INT NOT NULL,              -- foreign key to medication_dosages table\n",
    "        FOREIGN KEY (medication_id) REFERENCES medications(id),\n",
    "        FOREIGN KEY (medication_dosage_id) REFERENCES medication_dosages(id)\n",
    "    )\n",
    "\n",
    "CREATE TABLE\n",
    "    medication_availability (\n",
    "        id INT NOT NULL PRIMARY KEY IDENTITY(1,1),      -- unique, primary key\n",
    "        medication_id INT NOT NULL,                     -- foreign key to medications table\n",
    "        medication_availability VARCHAR(255),           -- how the medication is available - prescription, otc, etc.\n",
    "    )\n",
    "\n",
    "CREATE TABLE\n",
    "    medication_dosages (\n",
    "        id INT NOT NULL PRIMARY KEY IDENTITY(1,1),      -- unique, primary key\n",
    "        medication_id INT NOT NULL,                     -- foreign key to medications table\n",
    "        dosage VARCHAR(255),                            -- the dosage of the medication\n",
    "        dosage_unit VARCHAR(255),                       -- the unit of the dosage\n",
    "        dosage_frequency VARCHAR(255),                  -- how often the dosage is taken\n",
    "        dosage_duration FLOAT,                          -- number of hours between dosages\n",
    "        FOREIGN KEY (medication_id) REFERENCES medications(id)\n",
    "    )\n",
    "\n",
    "CREATE TABLE\n",
    "    medication_side_effects (\n",
    "        id INT NOT NULL PRIMARY KEY IDENTITY(1,1),      -- unique, primary key\n",
    "        medication_id INT NOT NULL,                     -- foreign key to medications table\n",
    "        side_effect_id INT NOT NULL,                    -- foreign key to side_effects table\n",
    "        FOREIGN KEY (medication_id) REFERENCES medications(id),\n",
    "        FOREIGN KEY (side_effect_id) REFERENCES side_effects(id)\n",
    "    )\n",
    "\n",
    "CREATE TABLE\n",
    "    side_effects (\n",
    "        id INT NOT NULL PRIMARY KEY IDENTITY(1,1),      -- unique, primary key\n",
    "        side_effect VARCHAR(255),                       -- the side effect\n",
    "        additional_information VARCHAR(255),            -- additional information about the side effect\n",
    "        seriousness VARCHAR(255),                       -- how serious the side effect is\n",
    "        duration VARCHAR(255),                          -- how long the side effect lasts\n",
    "        overdose_warning INT                            -- whether or not this side effect is a warning sign of overdose\n",
    "    )\n",
    "\n",
    "CREATE TABLE\n",
    "    prescriptions (\n",
    "        id INT NOT NULL PRIMARY KEY IDENTITY(1,1),      -- unique, primary key\n",
    "        medication_stub_id INT NOT NULL,                -- foreign key to medication_stubs table\n",
    "        physician_id INT NOT NULL,                      -- foreign key to physicians table\n",
    "    )\n",
    "\n",
    "CREATE VIEW\n",
    "    list_of_medication_stubs_w_medication_info (\n",
    "        SELECT\n",
    "            s.stub,                                     -- [medication_stubs].[stub]                            -- our unique identifier for this stub\n",
    "            m.medication,                               -- [medications].[medication]                           -- our common name for this medication\n",
    "            m.generic_name,                             -- [medications].[generic_name]                         -- the generic name for this medication\n",
    "            m.brand_name,                               -- [medications].[brand_name]                           -- the brand name for this medication\n",
    "            m.medication_availability,                  -- [medication_availability].[medication_availability]  -- how the medication is available - prescription, otc, etc.\n",
    "            d.dosage,                                   -- [medication_dosages].[dosage]                        -- the dosage of the medication\n",
    "            d.dosage_unit,                              -- [medication_dosages].[dosage_unit]                   -- the unit of the dosage\n",
    "            d.dosage_frequency,                         -- [medication_dosages].[dosage_frequency]              -- how often the dosage is taken\n",
    "            d.dosage_duration                           -- [medication_dosages].[dosage_duration]               -- number of hours between dosages\n",
    "        FROM medication_stubs s \n",
    "            INNER JOIN medications m ON s.medication_id = m.id\n",
    "            INNER JOIN medication_dosages d ON s.medication_dosage_id = d.id\n",
    "    )\n",
    "    \n"
   ]
  },
  {
   "attachments": {},
   "cell_type": "markdown",
   "metadata": {},
   "source": [
    "# General Medical Tables   "
   ]
  },
  {
   "cell_type": "code",
   "execution_count": null,
   "metadata": {
    "vscode": {
     "languageId": "sql"
    }
   },
   "outputs": [],
   "source": [
    "\n",
    "\n",
    "CREATE TABLE\n",
    "    physicians (\n",
    "        id INT NOT NULL PRIMARY KEY IDENTITY(1,1),      -- unique, primary key\n",
    "        name_first VARCHAR(255),                        -- first name of the physician\n",
    "        name_last VARCHAR(255),                         -- last name of the physician\n",
    "        name_middle VARCHAR(255),                       -- middle name of the physician\n",
    "        name_suffix VARCHAR(255),                       -- suffix of the physician\n",
    "        specialty_id VARCHAR(255),                      -- the specialty of the physician\n",
    "        address VARCHAR(255),                           -- the address of the physician\n",
    "        city VARCHAR(255),                              -- the city of the physician\n",
    "        state VARCHAR(255),                             -- the state of the physician\n",
    "        zip_code VARCHAR(255),                          -- the zip code of the physician\n",
    "        phone VARCHAR(255),                             -- the phone number of the physician\n",
    "        fax VARCHAR(255),                               -- the fax number of the physician\n",
    "        email VARCHAR(255),                             -- the email address of the physician\n",
    "        website VARCHAR(255),                           -- the website of the physician\n",
    "        FOREIGN KEY (specialty_id) REFERENCES specialty(id)\n",
    "    )\n",
    "\n",
    "CREATE TABLE\n",
    "    medical_speciality (\n",
    "        id INT NOT NULL PRIMARY KEY IDENTITY(1,1),      -- unique, primary key\n",
    "        specialty VARCHAR(255),                         -- the specialty of the physician\n",
    "        description VARCHAR(255),                       -- a description of the specialty\n",
    "    )\n",
    "\n",
    "CREATE TABLE\n",
    "    conditions (\n",
    "        id INT NOT NULL PRIMARY KEY IDENTITY(1,1),      -- unique, primary key\n",
    "        condition VARCHAR(255),                         -- the condition\n",
    "        description VARCHAR(255),                       -- a description of the condition\n",
    "    )\n",
    "\n",
    "CREATE TABLE\n",
    "    physician_conditions(\n",
    "        id INT NOT NULL PRIMARY KEY IDENTITY(1,1),      -- unique, primary key\n",
    "        physician_id INT NOT NULL,                      -- foreign key to physicians table\n",
    "        condition_id INT NOT NULL,                      -- foreign key to conditions table\n",
    "        FOREIGN KEY (physician_id) REFERENCES physicians(id),\n",
    "        FOREIGN KEY (condition_id) REFERENCES conditions(id)\n",
    "    )\n",
    "\n",
    "CREATE TABLE\n",
    "    condition_side_effects (\n",
    "        id INT NOT NULL PRIMARY KEY IDENTITY(1,1),      -- unique, primary key\n",
    "        condition_id INT NOT NULL,                      -- foreign key to conditions table\n",
    "        side_effect_id INT NOT NULL,                    -- foreign key to side_effects table\n",
    "        FOREIGN KEY (condition_id) REFERENCES conditions(id),\n",
    "        FOREIGN KEY (side_effect_id) REFERENCES side_effects(id)\n",
    "    )\n",
    "    "
   ]
  },
  {
   "cell_type": "code",
   "execution_count": null,
   "metadata": {
    "vscode": {
     "languageId": "sql"
    }
   },
   "outputs": [],
   "source": [
    "-- Example of a stub: \"tylenol-1000-mg\"\n",
    "-- Medication Stubs are used in tracking the medications people take.\n",
    "-- A stub is a text-based unique identifier that is easy to read and understand.\n",
    "-- It maps to a specific medication, amount, and unit of measurement."
   ]
  },
  {
   "cell_type": "code",
   "execution_count": 3,
   "metadata": {},
   "outputs": [],
   "source": [
    "medication01 = \"oxycodone-7.5-mg\"\n",
    "medication02 = \"oxycodone-15-mg\"\n",
    "medication03 = \"oxycodone-30-mg\"\n",
    "medication04 = \"lorazapam-0.5-mg\"\n",
    "medication05 = \"venlafaxine-er-150-mg\"\n",
    "medication06 = \"bupropion-xr-300-mg\"\n",
    "medication07 = \"clonazepam-1-mg\"\n",
    "medication08 = \"omeprazole-30-mg\"\n",
    "medication09 = \"tamsulosin-0.4-mg\"\n",
    "medication10 = \"vyvanse-70-mg\"\n",
    "\n",
    "# to query all of a stub's information, follow the example below\n",
    "sql = \"select * from list_of_medication_stubs_w_medication_info where stub = 'bupropion-xr-300-mg'\"\n",
    "\n",
    "# medications table fields: id,                             -- 1\n",
    "#                           stub,                           -- bupropion-xr-300-mg\n",
    "#                           med.id,                         -- 18\n",
    "#                           med.name,                       -- bupropion xr\n",
    "#                           med.description,                -- lorem ipsum solor sit amet\n",
    "#                           med.format,                     -- tablet_xr\n",
    "#                           med.units,                      -- mg\n",
    "#                           med.strength-per-unit,          -- 300\n",
    "#                           med.type,                       -- prescription\n",
    "#                           med.additional-information-url, -- https://www.drugs.com/bupropion.html\n",
    "#                           created_at,                     -- 2021-05-18 08:00:00-0400\n",
    "#                           updated_at                      -- 2021-05-18 08:00:00-0400"
   ]
  },
  {
   "attachments": {},
   "cell_type": "markdown",
   "metadata": {},
   "source": [
    "## Groups"
   ]
  },
  {
   "cell_type": "code",
   "execution_count": null,
   "metadata": {},
   "outputs": [],
   "source": [
    "group__adge_morning_meds    = [\"venlafaxine-150-mg\", \"clonazepam-1-mg\", \"bupropion-xr-300-mg\", \"omeprazole-30-mg\", \"tamsulosin-0.4-mg\", \"vyvanse-70-mg\"]\n",
    "group__adge_afternoon_meds  = [\"venlafaxine-150-mg\", \"clonazepam-1-mg\"]\n",
    "adge_med_groups = [group__adge_morning_meds, group__adge_afternoon_meds]"
   ]
  },
  {
   "attachments": {},
   "cell_type": "markdown",
   "metadata": {},
   "source": [
    "## Example Data"
   ]
  },
  {
   "cell_type": "code",
   "execution_count": 2,
   "metadata": {},
   "outputs": [
    {
     "name": "stdout",
     "output_type": "stream",
     "text": [
      "Becky's data may look like this:\n",
      "('2023-05-18 08:00:00-0400', 'pain-meds - oxycodone 15 mg', 'location:abdomen_lower-right-quadrant, level:6')\n",
      "('2023-05-18 09:30:00-0400', 'bowel-movement - diarrhea', 'liquid')\n",
      "('2023-05-18 11:15:00-0400', 'morning-meds (see group)', None)\n",
      "('2023-05-18 13:45:00-0400', 'bowel-movement - diarrhea', 'diced')\n",
      "('2023-05-18 16:00:00-0400', 'pain-meds - oxycodone 15 mg', 'location:abdomen_lower-right-quadrant, level:5')\n",
      "Fitzy's data may look like this:\n",
      "('2023-05-18 07:14:00-0400', 'brush-teeth', None)\n",
      "('2023-05-18 07:15:00-0400', 'daily-vitamins', None)\n",
      "('2023-05-18 16:36:00-0400', 'homework-completed', None)\n",
      "('2023-05-18 18:00:00-0400', 'baseball-practice', None)\n",
      "('2023-05-18 21:39:00-0400', 'brush-teeth', None)\n",
      "Adge's data may look like this:\n",
      "('2023-05-18 05:14:00-0400', 'morning-meds', None)\n",
      "('2023-05-18 08:15:00-0400', 'void-bladder', 'sudden')\n",
      "('2023-05-18 08:36:00-0400', 'void-bladder', 'sudden')\n",
      "('2023-05-18 18:00:00-0400', 'afternoon-meds', None)\n",
      "('2023-05-18 21:39:00-0400', 'walk', '1.2 miles')\n"
     ]
    }
   ],
   "source": [
    "# Becky's Data \n",
    "\n",
    "date_times = [\n",
    "    \"2023-05-18 08:00:00-0400\",\n",
    "    \"2023-05-18 09:30:00-0400\",\n",
    "    \"2023-05-18 11:15:00-0400\",\n",
    "    \"2023-05-18 13:45:00-0400\",\n",
    "    \"2023-05-18 16:00:00-0400\"\n",
    "]\n",
    "\n",
    "lines = [\n",
    "    \"pain-meds - oxycodone 15 mg\",\n",
    "    \"bowel-movement - diarrhea\",\n",
    "    \"morning-meds (see group)\",\n",
    "    \"bowel-movement - diarrhea\",\n",
    "    \"pain-meds - oxycodone 15 mg\"\n",
    "]\n",
    "\n",
    "details = [\n",
    "    \"location:abdomen_lower-right-quadrant, level:6\",\n",
    "    \"liquid\",\n",
    "    None,\n",
    "    \"diced\",\n",
    "    \"location:abdomen_lower-right-quadrant, level:5\"\n",
    "]\n",
    "\n",
    "combined_list = list(zip(date_times, lines, details))\n",
    "\n",
    "print(\"Becky's data may look like this:\")\n",
    "for item in combined_list:\n",
    "    print(item)\n",
    "\n",
    "# Fitzy's Data \n",
    "\n",
    "date_times = [\n",
    "    \"2023-05-18 07:14:00-0400\",\n",
    "    \"2023-05-18 07:15:00-0400\",\n",
    "    \"2023-05-18 16:36:00-0400\",\n",
    "    \"2023-05-18 18:00:00-0400\",\n",
    "    \"2023-05-18 21:39:00-0400\"\n",
    "]\n",
    "\n",
    "lines = [\n",
    "    \"brush-teeth\",\n",
    "    \"daily-vitamins\",\n",
    "    \"homework-completed\",\n",
    "    \"baseball-practice\",\n",
    "    \"brush-teeth\"\n",
    "]\n",
    "\n",
    "details = [\n",
    "    None,\n",
    "    None,\n",
    "    None,\n",
    "    None,\n",
    "    None\n",
    "]\n",
    "\n",
    "combined_list = list(zip(date_times, lines, details))\n",
    "\n",
    "print(\"Fitzy's data may look like this:\")\n",
    "for item in combined_list:\n",
    "    print(item)\n",
    "\n",
    "# Adge's Data \n",
    "\n",
    "date_times = [\n",
    "    \"2023-05-18 05:14:00-0400\",\n",
    "    \"2023-05-18 08:15:00-0400\",\n",
    "    \"2023-05-18 08:36:00-0400\",\n",
    "    \"2023-05-18 18:00:00-0400\",\n",
    "    \"2023-05-18 21:39:00-0400\"\n",
    "]\n",
    "\n",
    "lines = [\n",
    "    \"morning-meds\",\n",
    "    \"void-bladder\",\n",
    "    \"void-bladder\",\n",
    "    \"afternoon-meds\",\n",
    "    \"walk\"\n",
    "]\n",
    "\n",
    "details = [\n",
    "    None,\n",
    "    \"sudden\",\n",
    "    \"sudden\",\n",
    "    None,\n",
    "    \"1.2 miles\"\n",
    "]\n",
    "\n",
    "combined_list = list(zip(date_times, lines, details))\n",
    "\n",
    "print(\"Adge's data may look like this:\")\n",
    "for item in combined_list:\n",
    "    print(item)"
   ]
  }
 ],
 "metadata": {
  "kernelspec": {
   "display_name": "Python 3",
   "language": "python",
   "name": "python3"
  },
  "language_info": {
   "codemirror_mode": {
    "name": "ipython",
    "version": 3
   },
   "file_extension": ".py",
   "mimetype": "text/x-python",
   "name": "python",
   "nbconvert_exporter": "python",
   "pygments_lexer": "ipython3",
   "version": "3.11.5"
  },
  "orig_nbformat": 4
 },
 "nbformat": 4,
 "nbformat_minor": 2
}
