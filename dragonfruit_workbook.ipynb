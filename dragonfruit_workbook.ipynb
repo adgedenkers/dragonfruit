{
 "cells": [
  {
   "cell_type": "code",
   "execution_count": null,
   "metadata": {},
   "outputs": [],
   "source": [
    "import pandas\n",
    "\n",
    "import sys\n",
    "sys.path.append('/usr/local/dragonfruit/')\n",
    "\n",
    "import dragonfruit"
   ]
  }
 ],
 "metadata": {
  "language_info": {
   "name": "python"
  }
 },
 "nbformat": 4,
 "nbformat_minor": 2
}
