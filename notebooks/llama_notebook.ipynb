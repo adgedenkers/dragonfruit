{
 "cells": [
  {
   "cell_type": "code",
   "execution_count": 1,
   "metadata": {},
   "outputs": [
    {
     "name": "stdout",
     "output_type": "stream",
     "text": [
      "COLORFGBG: 15;0\n",
      "COLORTERM: truecolor\n",
      "COMMAND_MODE: unix2003\n",
      "EDITOR: code\n",
      "ELECTRON_NO_ATTACH_CONSOLE: 1\n",
      "HOME: /Users/adge\n",
      "ITERM_PROFILE: zsh\n",
      "ITERM_SESSION_ID: w1t0p0:116674EF-5E50-4180-9BCB-F2EB8CEF7F89\n",
      "LANG: en_US.UTF-8\n",
      "LC_TERMINAL: iTerm2\n",
      "LC_TERMINAL_VERSION: 3.4.22\n",
      "LESS: -R\n",
      "LOGNAME: adge\n",
      "LSCOLORS: Gxfxcxdxbxegedabagacad\n",
      "LS_COLORS: di=1;36:ln=35:so=32:pi=33:ex=31:bd=34;46:cd=34;43:su=30;41:sg=30;46:tw=30;42:ow=30;43\n",
      "MallocNanoZone: 0\n",
      "ORIGINAL_XDG_CURRENT_DESKTOP: undefined\n",
      "PAGER: cat\n",
      "PATH: /Users/adge/_code/dev/dragonfruit/.venv/bin:/Users/adge/.pyenv/shims:/Users/adge/.pyenv/bin:/Users/adge/.pyenv/bin:/Users/adge/.pyenv/bin:/Users/adge/.pyenv/bin:/Users/adge/.pyenv/bin:/Users/adge/.pyenv/bin:/Users/adge/.pyenv/bin:/Users/adge/.pyenv/bin:/Library/Frameworks/Python.framework/Versions/3.12/bin:/Library/Frameworks/Python.framework/Versions/3.11/bin:/Library/Frameworks/Python.framework/Versions/3.10/bin:/Library/Frameworks/Python.framework/Versions/3.8/bin:/usr/local/bin:/usr/bin:/bin:/usr/sbin:/sbin:/Users/adge/Library/Python/3.8/bin:/usr/local/share/dotnet:~/.dotnet/tools:/Library/Apple/usr/bin:/Applications/Wireshark.app/Contents/MacOS\n",
      "PWD: /\n",
      "PYENV_ROOT: /Users/adge/.pyenv\n",
      "PYENV_SHELL: zsh\n",
      "SHELL: zsh\n",
      "SHLVL: 3\n",
      "SSH_AUTH_SOCK: /private/tmp/com.apple.launchd.E7c5mAD7GC/Listeners\n",
      "TERM: xterm-color\n",
      "TERM_PROGRAM: iTerm.app\n",
      "TERM_PROGRAM_VERSION: 3.4.22\n",
      "TERM_SESSION_ID: w1t0p0:116674EF-5E50-4180-9BCB-F2EB8CEF7F89\n",
      "TMPDIR: /var/folders/h4/9cm6hhm96c7dfknqjk_dsvl40000gn/T/\n",
      "USER: adge\n",
      "VSCODE_AMD_ENTRYPOINT: vs/workbench/api/node/extensionHostProcess\n",
      "VSCODE_CLI: 1\n",
      "VSCODE_CODE_CACHE_PATH: /Users/adge/Library/Application Support/Code/CachedData/0ee08df0cf4527e40edc9aa28f4b5bd38bbff2b2\n",
      "VSCODE_CRASH_REPORTER_PROCESS_TYPE: extensionHost\n",
      "VSCODE_CWD: /Users/adge/_code/dev/dragonfruit\n",
      "VSCODE_HANDLES_UNCAUGHT_ERRORS: true\n",
      "VSCODE_IPC_HOOK: /Users/adge/Library/Application Support/Code/1.85-main.sock\n",
      "VSCODE_NLS_CONFIG: {\"locale\":\"en-us\",\"osLocale\":\"en-us\",\"availableLanguages\":{},\"_languagePackSupport\":true}\n",
      "VSCODE_PID: 32091\n",
      "XPC_FLAGS: 0x0\n",
      "XPC_SERVICE_NAME: 0\n",
      "ZSH: /Users/adge/.oh-my-zsh\n",
      "__CFBundleIdentifier: com.microsoft.VSCode\n",
      "__CF_USER_TEXT_ENCODING: 0x1F5:0x0:0x0\n",
      "ELECTRON_RUN_AS_NODE: 1\n",
      "APPLICATION_INSIGHTS_NO_DIAGNOSTIC_CHANNEL: 1\n",
      "PYTHONUNBUFFERED: 1\n",
      "PYTHONIOENCODING: utf-8\n",
      "VIRTUAL_ENV: /Users/adge/_code/dev/dragonfruit/.venv\n",
      "PS1: (.venv) \n",
      "VIRTUAL_ENV_PROMPT: (.venv) \n",
      "_: /Users/adge/_code/dev/dragonfruit/.venv/bin/python\n",
      "PYDEVD_IPYTHON_COMPATIBLE_DEBUGGING: 1\n",
      "PYDEVD_USE_FRAME_EVAL: NO\n",
      "CLICOLOR: 1\n",
      "FORCE_COLOR: 1\n",
      "CLICOLOR_FORCE: 1\n",
      "GIT_PAGER: cat\n",
      "MPLBACKEND: module://matplotlib_inline.backend_inline\n"
     ]
    }
   ],
   "source": [
    "import os\n",
    "\n",
    "def show_environment_variables():\n",
    "    # Retrieve all environment variables as a dictionary\n",
    "    env_vars = dict(os.environ)\n",
    "\n",
    "    # Print each environment variable and its value\n",
    "    for key, value in env_vars.items():\n",
    "        print(f\"{key}: {value}\")\n",
    "\n",
    "# Call the function\n",
    "show_environment_variables()\n"
   ]
  }
 ],
 "metadata": {
  "kernelspec": {
   "display_name": "venv",
   "language": "python",
   "name": "python3"
  },
  "language_info": {
   "codemirror_mode": {
    "name": "ipython",
    "version": 3
   },
   "file_extension": ".py",
   "mimetype": "text/x-python",
   "name": "python",
   "nbconvert_exporter": "python",
   "pygments_lexer": "ipython3",
   "version": "3.11.6"
  }
 },
 "nbformat": 4,
 "nbformat_minor": 2
}
