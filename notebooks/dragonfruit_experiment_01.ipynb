{
 "cells": [
  {
   "cell_type": "code",
   "execution_count": 1,
   "metadata": {},
   "outputs": [
    {
     "name": "stdout",
     "output_type": "stream",
     "text": [
      "UPDATE [dbo].[AuthCounts] SET auth_count = 4 WHERE pay_period = '23-11' AND service_org = 'CIO';\n",
      "UPDATE [dbo].[AuthCounts] SET auth_count = 134 WHERE pay_period = '23-11' AND service_org = 'CTO';\n",
      "UPDATE [dbo].[AuthCounts] SET auth_count = 64 WHERE pay_period = '23-11' AND service_org = 'CoS';\n",
      "UPDATE [dbo].[AuthCounts] SET auth_count = 2 WHERE pay_period = '23-11' AND service_org = 'SI';\n",
      "UPDATE [dbo].[AuthCounts] SET auth_count = 150 WHERE pay_period = '23-11' AND service_org = 'BIOS';\n",
      "UPDATE [dbo].[AuthCounts] SET auth_count = 343 WHERE pay_period = '23-11' AND service_org = 'CRR';\n",
      "UPDATE [dbo].[AuthCounts] SET auth_count = 3602 WHERE pay_period = '23-11' AND service_org = 'EUS';\n",
      "UPDATE [dbo].[AuthCounts] SET auth_count = 721 WHERE pay_period = '23-11' AND service_org = 'IOS';\n",
      "UPDATE [dbo].[AuthCounts] SET auth_count = 140 WHERE pay_period = '23-11' AND service_org = 'ITBF';\n",
      "UPDATE [dbo].[AuthCounts] SET auth_count = 678 WHERE pay_period = '23-11' AND service_org = 'OIS';\n",
      "UPDATE [dbo].[AuthCounts] SET auth_count = 339 WHERE pay_period = '23-11' AND service_org = 'OPS';\n",
      "UPDATE [dbo].[AuthCounts] SET auth_count = 205 WHERE pay_period = '23-11' AND service_org = 'OSS';\n",
      "UPDATE [dbo].[AuthCounts] SET auth_count = 252 WHERE pay_period = '23-11' AND service_org = 'PES';\n",
      "UPDATE [dbo].[AuthCounts] SET auth_count = 498 WHERE pay_period = '23-11' AND service_org = 'CCS';\n",
      "UPDATE [dbo].[AuthCounts] SET auth_count = 1536 WHERE pay_period = '23-11' AND service_org = 'SPM';\n"
     ]
    }
   ],
   "source": [
    "# data is a list of tuples (pay_period, service_org, auth_count)\n",
    "data = [\n",
    "    ('23-11', 'CIO', 4),\n",
    "    ('23-11', 'CTO', 134),\n",
    "    ('23-11', 'CoS', 64),\n",
    "    ('23-11', 'SI', 2),\n",
    "    ('23-11', 'BIOS', 150),\n",
    "    ('23-11', 'CRR', 343),\n",
    "    ('23-11', 'EUS', 3602),\n",
    "    ('23-11', 'IOS', 721),\n",
    "    ('23-11', 'ITBF', 140),\n",
    "    ('23-11', 'OIS', 678),\n",
    "    ('23-11', 'OPS', 339),\n",
    "    ('23-11', 'OSS', 205),\n",
    "    ('23-11', 'PES', 252),\n",
    "    ('23-11', 'CCS', 498),\n",
    "    ('23-11', 'SPM', 1536)\n",
    "]\n",
    "\n",
    "# generate the UPDATE statements\n",
    "for item in data:\n",
    "    pay_period, service_org, auth_count = item\n",
    "    print(f\"UPDATE [dbo].[AuthCounts] SET auth_count = {auth_count} \\\n",
    "WHERE pay_period = '{pay_period}' AND service_org = '{service_org}';\")\n"
   ]
  }
 ],
 "metadata": {
  "kernelspec": {
   "display_name": "Python 3",
   "language": "python",
   "name": "python3"
  },
  "language_info": {
   "codemirror_mode": {
    "name": "ipython",
    "version": 3
   },
   "file_extension": ".py",
   "mimetype": "text/x-python",
   "name": "python",
   "nbconvert_exporter": "python",
   "pygments_lexer": "ipython3",
   "version": "3.11.2"
  },
  "orig_nbformat": 4
 },
 "nbformat": 4,
 "nbformat_minor": 2
}
