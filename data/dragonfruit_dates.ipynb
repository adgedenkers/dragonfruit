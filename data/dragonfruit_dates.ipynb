{
 "cells": [
  {
   "cell_type": "code",
   "execution_count": 2,
   "metadata": {},
   "outputs": [],
   "source": [
    "import holidays\n",
    "import pandas as pd"
   ]
  },
  {
   "cell_type": "code",
   "execution_count": 3,
   "metadata": {},
   "outputs": [],
   "source": [
    "df = pd.read_csv('dates.csv')"
   ]
  },
  {
   "cell_type": "code",
   "execution_count": 9,
   "metadata": {},
   "outputs": [
    {
     "name": "stdout",
     "output_type": "stream",
     "text": [
      "Index(['date', 'day', 'suffix', 'dow_name', 'dow_num', 'doy', 'weekend', 'woy',\n",
      "       'fow', 'low', 'wom', 'month', 'moy_name', 'fom', 'lom', 'gov_quarter',\n",
      "       'year', 'cy', 'fy', 'leap_year', '53_weeks', 'disp_date',\n",
      "       'disp_mm_yyyy', 'disp_mm_dd_yyyy', 'disp_date_suffix', 'ppid', 'pp',\n",
      "       'ppy', 'ppn', 'ppw', 'ppd', 'pp_start', 'pp_end', 'pay_day',\n",
      "       'school_open', 'school_day', 'school_ab_day'],\n",
      "      dtype='object')\n"
     ]
    }
   ],
   "source": [
    "print(df.columns)"
   ]
  },
  {
   "cell_type": "code",
   "execution_count": 11,
   "metadata": {},
   "outputs": [],
   "source": [
    "df[['date']] = df['date'].str.split(expand=True)\n",
    "td = df[df['date'] == '2023-12-11']"
   ]
  },
  {
   "cell_type": "code",
   "execution_count": 12,
   "metadata": {},
   "outputs": [
    {
     "name": "stdout",
     "output_type": "stream",
     "text": [
      "           date  day suffix dow_name  dow_num  doy  weekend  woy         fow  \\\n",
      "344  2023-12-11   11     th   Monday        1  345        0   50  2023-12-11   \n",
      "\n",
      "            low  ...  ppy  ppn ppw ppd    pp_start      pp_end  pay_day  \\\n",
      "344  2023-12-17  ...   23   25   2   9  2023-12-03  2023-12-16        0   \n",
      "\n",
      "     school_open  school_day  school_ab_day  \n",
      "344            1           1              B  \n",
      "\n",
      "[1 rows x 37 columns]\n"
     ]
    }
   ],
   "source": [
    "print(td)"
   ]
  },
  {
   "cell_type": "markdown",
   "metadata": {},
   "source": [
    "# 2023-12-11    \n",
    "Monday, December 11th, 2023"
   ]
  }
 ],
 "metadata": {
  "kernelspec": {
   "display_name": "Python 3",
   "language": "python",
   "name": "python3"
  },
  "language_info": {
   "codemirror_mode": {
    "name": "ipython",
    "version": 3
   },
   "file_extension": ".py",
   "mimetype": "text/x-python",
   "name": "python",
   "nbconvert_exporter": "python",
   "pygments_lexer": "ipython3",
   "version": "3.11.6"
  }
 },
 "nbformat": 4,
 "nbformat_minor": 2
}
