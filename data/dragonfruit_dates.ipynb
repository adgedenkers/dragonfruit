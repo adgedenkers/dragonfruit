{
 "cells": [
  {
   "cell_type": "code",
   "execution_count": 22,
   "metadata": {},
   "outputs": [],
   "source": [
    "import datetime\n",
    "import holidays\n",
    "import pandas as pd"
   ]
  },
  {
   "cell_type": "code",
   "execution_count": 23,
   "metadata": {},
   "outputs": [],
   "source": [
    "df = pd.read_csv('dates.csv')"
   ]
  },
  {
   "cell_type": "code",
   "execution_count": 24,
   "metadata": {},
   "outputs": [
    {
     "name": "stdout",
     "output_type": "stream",
     "text": [
      "Index(['date', 'day', 'suffix', 'dow_name', 'dow_num', 'doy', 'weekend', 'woy',\n",
      "       'fow', 'low', 'wom', 'month', 'moy_name', 'fom', 'lom', 'gov_quarter',\n",
      "       'year', 'cy', 'fy', 'leap_year', '53_weeks', 'disp_date',\n",
      "       'disp_mm_yyyy', 'disp_mm_dd_yyyy', 'disp_date_suffix', 'ppid', 'pp',\n",
      "       'ppy', 'ppn', 'ppw', 'ppd', 'pp_start', 'pp_end', 'pay_day',\n",
      "       'school_open', 'school_day', 'school_ab_day'],\n",
      "      dtype='object')\n"
     ]
    }
   ],
   "source": [
    "print(df.columns)"
   ]
  },
  {
   "cell_type": "code",
   "execution_count": 25,
   "metadata": {},
   "outputs": [],
   "source": [
    "df[['date']] = df['date'].str.split(expand=True)\n",
    "td = df[df['date'] == datetime.date.today().strftime('%Y-%m-%d')]"
   ]
  },
  {
   "cell_type": "code",
   "execution_count": 28,
   "metadata": {},
   "outputs": [],
   "source": [
    "out = td.to_dict('records')"
   ]
  },
  {
   "cell_type": "code",
   "execution_count": 29,
   "metadata": {},
   "outputs": [
    {
     "name": "stdout",
     "output_type": "stream",
     "text": [
      "[{'date': '2023-12-20', 'day': 20, 'suffix': 'th', 'dow_name': 'Wednesday', 'dow_num': 3, 'doy': 354, 'weekend': 0, 'woy': 51, 'fow': '2023-12-18', 'low': '2023-12-24', 'wom': 3, 'month': 12, 'moy_name': 'December', 'fom': '2023-12-01', 'lom': '2023-12-31', 'gov_quarter': 4, 'year': 2023, 'cy': 2023, 'fy': 2023, 'leap_year': 0, '53_weeks': 0, 'disp_date': '2023-12-20', 'disp_mm_yyyy': '12/2023', 'disp_mm_dd_yyyy': '12/20/2023', 'disp_date_suffix': 20231220, 'ppid': 26, 'pp': '23-26', 'ppy': 23, 'ppn': 26, 'ppw': 1, 'ppd': 4, 'pp_start': '2023-12-17', 'pp_end': '2023-12-30', 'pay_day': 0, 'school_open': 1, 'school_day': 1, 'school_ab_day': 'A'}]\n"
     ]
    }
   ],
   "source": [
    "print(out)"
   ]
  }
 ],
 "metadata": {
  "kernelspec": {
   "display_name": "Python 3",
   "language": "python",
   "name": "python3"
  },
  "language_info": {
   "codemirror_mode": {
    "name": "ipython",
    "version": 3
   },
   "file_extension": ".py",
   "mimetype": "text/x-python",
   "name": "python",
   "nbconvert_exporter": "python",
   "pygments_lexer": "ipython3",
   "version": "3.11.6"
  }
 },
 "nbformat": 4,
 "nbformat_minor": 2
}
