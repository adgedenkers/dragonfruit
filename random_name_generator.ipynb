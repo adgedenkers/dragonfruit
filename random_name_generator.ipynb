{
 "cells": [
  {
   "cell_type": "code",
   "execution_count": 1,
   "metadata": {},
   "outputs": [
    {
     "name": "stdout",
     "output_type": "stream",
     "text": [
      "100 unique name and email combinations have been saved to 'random_names_emails.txt'.\n"
     ]
    }
   ],
   "source": [
    "import random\n",
    "\n",
    "def generate_name():\n",
    "    \"\"\"Generate a random name (first and last) and email.\"\"\"\n",
    "    first_names = [\"Olivia\", \"Liam\", \"Emma\", \"Noah\", \"Ava\", \"Elijah\", \"Sophia\", \"Oliver\", \"Isabella\", \"Lucas\"]\n",
    "    last_names = [\"Smith\", \"Johnson\", \"Williams\", \"Brown\", \"Jones\", \"Garcia\", \"Miller\", \"Davis\", \"Rodriguez\", \"Martinez\"]\n",
    "\n",
    "    first_name = random.choice(first_names)\n",
    "    last_name = random.choice(last_names)\n",
    "    email = f\"{first_name.lower()}.{last_name.lower()}@example.com\".upper()\n",
    "\n",
    "    return f\"{first_name} {last_name}\", email\n",
    "\n",
    "def generate_unique_names(count):\n",
    "    \"\"\"Generate a specified number of unique name and email combinations.\"\"\"\n",
    "    name_email_set = set()\n",
    "    while len(name_email_set) < count:\n",
    "        name_email_set.add(generate_name())\n",
    "    return list(name_email_set)\n",
    "\n",
    "def save_to_file(data, file_name):\n",
    "    \"\"\"Save the generated data to a file.\"\"\"\n",
    "    with open(file_name, \"w\") as file:\n",
    "        for name, email in data:\n",
    "            file.write(f\"{name} - {email}\\n\")\n",
    "\n",
    "# Main execution\n",
    "unique_names = generate_unique_names(100)\n",
    "save_to_file(unique_names, \"random_names_emails.txt\")\n",
    "\n",
    "print(\"100 unique name and email combinations have been saved to 'random_names_emails.txt'.\")\n"
   ]
  }
 ],
 "metadata": {
  "kernelspec": {
   "display_name": "Python 3",
   "language": "python",
   "name": "python3"
  },
  "language_info": {
   "codemirror_mode": {
    "name": "ipython",
    "version": 3
   },
   "file_extension": ".py",
   "mimetype": "text/x-python",
   "name": "python",
   "nbconvert_exporter": "python",
   "pygments_lexer": "ipython3",
   "version": "3.11.4"
  }
 },
 "nbformat": 4,
 "nbformat_minor": 2
}
